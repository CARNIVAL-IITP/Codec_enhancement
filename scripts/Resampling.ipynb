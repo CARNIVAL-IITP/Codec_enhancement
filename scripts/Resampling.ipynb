{
 "cells": [
  {
   "cell_type": "code",
   "execution_count": 2,
   "id": "ed7079a6",
   "metadata": {},
   "outputs": [],
   "source": [
    "import os\n",
    "os.environ[\"OMP_NUM_THREADS\"] = \"1\" # export OMP_NUM_THREADS=1\n",
    "os.environ[\"OPENBLAS_NUM_THREADS\"] = \"1\" # export OPENBLAS_NUM_THREADS=1\n",
    "os.environ[\"MKL_NUM_THREADS\"] = \"1\" # export MKL_NUM_THREADS=1\n",
    "os.environ[\"VECLIB_MAXIMUM_THREADS\"] = \"1\" # export VECLIB_MAXIMUM_THREADS=1\n",
    "os.environ[\"NUMEXPR_NUM_THREADS\"] = \"1\" # export NUMEXPR_NUM_THREADS=1\n",
    "import concurrent\n",
    "from pathlib import Path\n",
    "\n",
    "import librosa\n",
    "import soundfile as sf\n",
    "from tqdm.notebook import tqdm"
   ]
  },
  {
   "cell_type": "code",
   "execution_count": 5,
   "id": "cecc2405",
   "metadata": {},
   "outputs": [],
   "source": [
    "def resample(from_path, to_path):\n",
    "    if to_path.exists():\n",
    "        return\n",
    "    to_path.parent.mkdir(parents=True, exist_ok=True)\n",
    "    try:\n",
    "        wav, _ = librosa.load(from_path, sr=24000)\n",
    "        sf.write(to_path, wav, 24000, subtype='PCM_16')\n",
    "    except Exception as e:\n",
    "        print(e)"
   ]
  },
  {
   "cell_type": "markdown",
   "id": "ec3a0cee",
   "metadata": {},
   "source": [
    "# Jamendo"
   ]
  },
  {
   "cell_type": "code",
   "execution_count": 2,
   "id": "c140ad7c",
   "metadata": {},
   "outputs": [],
   "source": [
    "base_dir = Path('/home/shahn/Datasets/jamendo')\n",
    "from_dir = base_dir / Path('raw_30s')\n",
    "to_dir = base_dir / Path('raw_30s_24khz')\n",
    "new_ext = '.wav'"
   ]
  },
  {
   "cell_type": "code",
   "execution_count": 4,
   "id": "9154addc",
   "metadata": {},
   "outputs": [
    {
     "data": {
      "application/vnd.jupyter.widget-view+json": {
       "model_id": "b194b19985574a2d977c44154af87772",
       "version_major": 2,
       "version_minor": 0
      },
      "text/plain": [
       "  0%|                                                               | 0/55701 [00:00<?, ?it/s]"
      ]
     },
     "metadata": {},
     "output_type": "display_data"
    },
    {
     "name": "stdout",
     "output_type": "stream",
     "text": [
      "55701\n"
     ]
    }
   ],
   "source": [
    "total_num = 0\n",
    "futures = []\n",
    "with concurrent.futures.ProcessPoolExecutor(max_workers=64) as executor:\n",
    "    for file in from_dir.rglob('*.mp3'):\n",
    "        new_filename = to_dir / file.relative_to(from_dir).with_suffix(new_ext)\n",
    "        total_num += 1\n",
    "        futures.append(executor.submit(\n",
    "            resample,\n",
    "            file,\n",
    "            new_filename\n",
    "        ))\n",
    "    for future in tqdm(concurrent.futures.as_completed(futures), dynamic_ncols=True, total=total_num):\n",
    "        future.result()"
   ]
  },
  {
   "cell_type": "markdown",
   "id": "75e5bc66",
   "metadata": {},
   "source": [
    "# DNS4"
   ]
  },
  {
   "cell_type": "code",
   "execution_count": 6,
   "id": "92bb9360",
   "metadata": {},
   "outputs": [
    {
     "name": "stdout",
     "output_type": "stream",
     "text": [
      "890000Input signal length=0 is too small to resample from 48000->24000\n",
      "891000Input signal length=0 is too small to resample from 48000->24000\n",
      "Input signal length=0 is too small to resample from 48000->24000Input signal length=0 is too small to resample from 48000->24000\n",
      "\n",
      "901000Input signal length=0 is too small to resample from 48000->24000\n",
      "Input signal length=0 is too small to resample from 48000->24000\n",
      "1173000"
     ]
    },
    {
     "data": {
      "application/vnd.jupyter.widget-view+json": {
       "model_id": "9859865681f84570accf5a3ad46b2f70",
       "version_major": 2,
       "version_minor": 0
      },
      "text/plain": [
       "  0%|                                                               | 0/1173372 [00:00<?, ?it/s]"
      ]
     },
     "metadata": {},
     "output_type": "display_data"
    }
   ],
   "source": [
    "base_dir = Path('/home/shahn/Datasets/DNS-Challenge4/datasets_fullband')\n",
    "to_base_dir = Path('/home/shahn/Datasets/DNS-Challenge4/datasets_24khz')\n",
    "new_ext = '.wav'\n",
    "\n",
    "total_num = 0\n",
    "futures = []\n",
    "with concurrent.futures.ProcessPoolExecutor(max_workers=32) as executor:\n",
    "    for path in [\"clean_fullband\", \"noise_fullband\", \"dev_testset_fullband\"]:\n",
    "        from_dir = base_dir / Path(path)\n",
    "        to_dir = to_base_dir / Path(path)\n",
    "        for file in from_dir.rglob('*.wav'):\n",
    "            new_filename = to_dir / file.relative_to(from_dir).with_suffix(new_ext)\n",
    "            total_num += 1\n",
    "            futures.append(executor.submit(\n",
    "                resample,\n",
    "                file,\n",
    "                new_filename\n",
    "            ))\n",
    "            if total_num % 1000 == 0:\n",
    "                print(f\"\\r{total_num}\", end=\"\", flush=True)\n",
    "    for future in tqdm(concurrent.futures.as_completed(futures), dynamic_ncols=True, total=total_num):\n",
    "        future.result()"
   ]
  },
  {
   "cell_type": "markdown",
   "id": "4f55f85a",
   "metadata": {},
   "source": [
    "# VCTK"
   ]
  },
  {
   "cell_type": "code",
   "execution_count": 10,
   "id": "0a8342ef",
   "metadata": {},
   "outputs": [
    {
     "name": "stdout",
     "output_type": "stream",
     "text": [
      "85000"
     ]
    },
    {
     "data": {
      "application/vnd.jupyter.widget-view+json": {
       "model_id": "1e3a2ecba97a4bba8f1e77f30678a842",
       "version_major": 2,
       "version_minor": 0
      },
      "text/plain": [
       "  0%|                                                                 | 0/88328 [00:00<?, ?it/s]"
      ]
     },
     "metadata": {},
     "output_type": "display_data"
    }
   ],
   "source": [
    "base_dir = Path('/home/shahn/Datasets/VCTK-0.92')\n",
    "from_dir = base_dir / Path('wav48_silence_trimmed')\n",
    "to_dir = base_dir / Path('wav24_silence_trimmed')\n",
    "new_ext = '.wav'\n",
    "\n",
    "total_num = 0\n",
    "futures = []\n",
    "with concurrent.futures.ProcessPoolExecutor(max_workers=32) as executor:\n",
    "    for file in from_dir.rglob('*.flac'):\n",
    "        new_filename = to_dir / file.relative_to(from_dir).with_suffix(new_ext)\n",
    "        total_num += 1\n",
    "        futures.append(executor.submit(\n",
    "            resample,\n",
    "            file,\n",
    "            new_filename\n",
    "        ))\n",
    "        if total_num % 5000 == 0:\n",
    "            print(f\"\\r{total_num}\", end=\"\", flush=True)\n",
    "    for future in tqdm(concurrent.futures.as_completed(futures), dynamic_ncols=True, total=total_num):\n",
    "        future.result()"
   ]
  },
  {
   "cell_type": "code",
   "execution_count": null,
   "id": "2283ab86",
   "metadata": {},
   "outputs": [],
   "source": []
  }
 ],
 "metadata": {
  "kernelspec": {
   "display_name": "Python 3 (ipykernel)",
   "language": "python",
   "name": "python3"
  },
  "language_info": {
   "codemirror_mode": {
    "name": "ipython",
    "version": 3
   },
   "file_extension": ".py",
   "mimetype": "text/x-python",
   "name": "python",
   "nbconvert_exporter": "python",
   "pygments_lexer": "ipython3",
   "version": "3.10.8"
  }
 },
 "nbformat": 4,
 "nbformat_minor": 5
}

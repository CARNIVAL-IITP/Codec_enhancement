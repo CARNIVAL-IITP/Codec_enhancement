{
 "cells": [
  {
   "cell_type": "markdown",
   "id": "5dc3762d",
   "metadata": {},
   "source": [
    "# segment 10 seconds for calculating ViSQOLAudio"
   ]
  },
  {
   "cell_type": "code",
   "execution_count": 2,
   "id": "2b824d2f",
   "metadata": {},
   "outputs": [],
   "source": [
    "import random\n",
    "import wave\n",
    "from pathlib import Path\n",
    "import soundfile as sf\n",
    "from tqdm.notebook import tqdm\n",
    "import numpy as np\n",
    "\n",
    "sr = 24_000\n",
    "segment_size = sr * 10  # 10 sec\n",
    "base_dir = \"/home/shahn/Datasets/jamendo/raw_30s_24khz/99\"\n",
    "to_dir = \"/home/shahn/Datasets/jamendo/10s_segment_24khz/99\"\n",
    "for file in Path(base_dir).rglob('*.wav'):\n",
    "    wave_read = wave.open(str(file))\n",
    "    assert wave_read.getframerate() == sr\n",
    "    start_idx = random.randint(0, wave_read.getnframes() - segment_size)\n",
    "    wave_read.setpos(start_idx)\n",
    "    segment = wave_read.readframes(segment_size)\n",
    "    wav = np.frombuffer(segment, dtype=np.int16, count=len(segment)//2, offset=0)\n",
    "    save_path = to_dir / file.relative_to(base_dir)\n",
    "    save_path.parent.mkdir(parents=True, exist_ok=True)\n",
    "    sf.write(save_path, wav, sr, subtype='PCM_16')"
   ]
  },
  {
   "cell_type": "markdown",
   "id": "7e5b44a4",
   "metadata": {},
   "source": [
    "# generate a filelist"
   ]
  },
  {
   "cell_type": "code",
   "execution_count": 3,
   "id": "ed3d4239",
   "metadata": {},
   "outputs": [],
   "source": [
    "from tqdm.notebook import tqdm\n",
    "from pathlib import Path\n",
    "import re\n",
    "\n",
    "base_dir = \"/home/shahn/Datasets\"\n",
    "directories = [\n",
    "    \"/home/shahn/Datasets/VCTK-0.92/wav24_silence_trimmed/p225\",  # clean\n",
    "    \"/home/shahn/Datasets/VCTK-0.92/wav24_silence_trimmed/p226\",  # clean\n",
    "    \"/home/shahn/Datasets/VCTK-0.92/wav24_silence_trimmed/p227\",  # clean\n",
    "    \"/home/shahn/Datasets/VCTK-0.92/wav24_silence_trimmed/p228\",  # clean\n",
    "    \"/home/shahn/Datasets/DNS-Challenge4/datasets_24khz/dev_testset\", # noisy\n",
    "    \"/home/shahn/Datasets/jamendo/10s_segment_24khz/99\"               # music\n",
    "]\n",
    "# directories = [\n",
    "#     \"/home/shahn/Datasets/VCTK-0.92/wav16_silence_trimmed/p225\",  # clean\n",
    "#     \"/home/shahn/Datasets/VCTK-0.92/wav16_silence_trimmed/p226\",  # clean\n",
    "#     \"/home/shahn/Datasets/VCTK-0.92/wav16_silence_trimmed/p227\",  # clean\n",
    "#     \"/home/shahn/Datasets/VCTK-0.92/wav16_silence_trimmed/p228\",  # clean\n",
    "#     \"/home/shahn/Datasets/DNS-Challenge3/datasets/wideband/dev_testset_wideband\", # noisy\n",
    "#     \"/home/shahn/Datasets/jamendo/10s_segment_16khz/99\"               # music\n",
    "# ]\n",
    "directories_to_exclude = [\n",
    "]\n",
    "\n",
    "\n",
    "def is_directory_to_exclude(file: Path, directories_to_exclude) -> bool:\n",
    "    parents = file.parents\n",
    "    for dte in directories_to_exclude:\n",
    "        dte = Path(dte)\n",
    "        if dte in parents:\n",
    "            return True\n",
    "    return False\n",
    "\n",
    "\n",
    "with open(\"../../filelists/DNS/DNS_VCTK_jamendo_valid_24khz.txt\", \"w\") as f:\n",
    "    for directory in directories:\n",
    "        for file in Path(directory).rglob('*.wav'):\n",
    "            if is_directory_to_exclude(file, directories_to_exclude):\n",
    "                continue\n",
    "            \n",
    "            m = re.match(r\".+_([0-9]+)_mic[12]\\.wav\", str(file))\n",
    "            if m and int(m[1]) > 80:\n",
    "                continue\n",
    "            \n",
    "            file = str(file.relative_to(base_dir))\n",
    "            f.write(f\"{file}\\n\")"
   ]
  },
  {
   "cell_type": "code",
   "execution_count": 5,
   "id": "b5d5e2da",
   "metadata": {},
   "outputs": [
    {
     "name": "stdout",
     "output_type": "stream",
     "text": [
      "25: /home/shahn/Datasets/VCTK-0.92/wav24_silence_trimmed/p225\n",
      "25: /home/shahn/Datasets/VCTK-0.92/wav24_silence_trimmed/p226\n",
      "25: /home/shahn/Datasets/VCTK-0.92/wav24_silence_trimmed/p227\n",
      "25: /home/shahn/Datasets/VCTK-0.92/wav24_silence_trimmed/p228\n",
      "100: /home/shahn/Datasets/DNS-Challenge4/datasets_24khz/dev_testset\n",
      "100: /home/shahn/Datasets/jamendo/10s_segment_24khz/99\n"
     ]
    }
   ],
   "source": [
    "from tqdm.notebook import tqdm\n",
    "from pathlib import Path\n",
    "import re\n",
    "import wave\n",
    "\n",
    "base_dir = \"/home/shahn/Datasets\"\n",
    "directories = [\n",
    "    \"/home/shahn/Datasets/VCTK-0.92/wav24_silence_trimmed/p225\",  # clean\n",
    "    \"/home/shahn/Datasets/VCTK-0.92/wav24_silence_trimmed/p226\",  # clean\n",
    "    \"/home/shahn/Datasets/VCTK-0.92/wav24_silence_trimmed/p227\",  # clean\n",
    "    \"/home/shahn/Datasets/VCTK-0.92/wav24_silence_trimmed/p228\",  # clean\n",
    "    \"/home/shahn/Datasets/DNS-Challenge4/datasets_24khz/dev_testset\", # noisy\n",
    "    \"/home/shahn/Datasets/jamendo/10s_segment_24khz/99\"               # music\n",
    "]\n",
    "minimum_length = 6\n",
    "nums = [25, 25, 25, 25, 100, 100]\n",
    "\n",
    "with open(\"../../filelists/DNS/DNS_VCTK_jamendo_pesq_24khz.txt\", \"w\") as f:\n",
    "    for directory, num in zip(directories, nums):\n",
    "        count = 0\n",
    "        for file in Path(directory).rglob('*.wav'):\n",
    "            wave_read = wave.open(str(file))\n",
    "            sr = wave_read.getframerate()\n",
    "            assert sr == 24_000\n",
    "            wav_len = wave_read.getnframes()\n",
    "            if wav_len >= minimum_length * sr:\n",
    "                count += 1\n",
    "                file = str(file.relative_to(base_dir))\n",
    "                f.write(f\"{file}\\n\")\n",
    "            if count >= num:\n",
    "                break\n",
    "        print(f\"{count}: {directory}\")"
   ]
  },
  {
   "cell_type": "code",
   "execution_count": null,
   "id": "537ade1c",
   "metadata": {},
   "outputs": [],
   "source": []
  }
 ],
 "metadata": {
  "kernelspec": {
   "display_name": "Python 3 (ipykernel)",
   "language": "python",
   "name": "python3"
  },
  "language_info": {
   "codemirror_mode": {
    "name": "ipython",
    "version": 3
   },
   "file_extension": ".py",
   "mimetype": "text/x-python",
   "name": "python",
   "nbconvert_exporter": "python",
   "pygments_lexer": "ipython3",
   "version": "3.10.8"
  }
 },
 "nbformat": 4,
 "nbformat_minor": 5
}
